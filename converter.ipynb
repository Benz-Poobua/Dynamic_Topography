{
 "cells": [
  {
   "cell_type": "markdown",
   "id": "574f868a",
   "metadata": {},
   "source": [
    "### Dynamic Topography"
   ]
  },
  {
   "cell_type": "code",
   "execution_count": null,
   "id": "d3eb33fe",
   "metadata": {},
   "outputs": [],
   "source": [
    "import cv2, os, re\n",
    "from pathlib import Path\n",
    "\n",
    "# Define paths\n",
    "root = Path.cwd()\n",
    "data_2d_path = root / 'Outputs_2D' \n",
    "animation_path = root / 'Animations' \n",
    "\n",
    "# Ensure animation output folder exists\n",
    "os.makedirs(animation_path, exist_ok=True)"
   ]
  },
  {
   "cell_type": "code",
   "execution_count": 21,
   "id": "cbb8087e",
   "metadata": {},
   "outputs": [
    {
     "name": "stdout",
     "output_type": "stream",
     "text": [
      "Found 51 JPEG files.\n"
     ]
    }
   ],
   "source": [
    "# Function to extract geological time from filename\n",
    "def extract_time(filename: str) -> float:\n",
    "    match = re.search(r'(\\d+(?:\\.\\d+)?)Ma', filename)\n",
    "    return float(match.group(1)) if match else float('inf')\n",
    "\n",
    "# Get and sort image files by extracted time\n",
    "images2d_files = sorted(\n",
    "    (f for f in data_2d_path.glob(\"*.jpg\") if f.is_file()),\n",
    "    key=lambda f: extract_time(f.name)\n",
    ")\n",
    "print(f\"Found {len(images2d_files)} JPEG files.\")\n",
    "\n",
    "if not images2d_files:\n",
    "    raise FileNotFoundError(f\"No JPEGs found in {data_2d_path}\")"
   ]
  },
  {
   "cell_type": "code",
   "execution_count": 22,
   "id": "14a95225",
   "metadata": {},
   "outputs": [],
   "source": [
    "# Read first image to get frame size\n",
    "first_frame = cv2.imread(str(images2d_files[0]))\n",
    "height, width, _ = first_frame.shape"
   ]
  },
  {
   "cell_type": "code",
   "execution_count": 23,
   "id": "fef6684c",
   "metadata": {},
   "outputs": [],
   "source": [
    "# Define output video writer\n",
    "output_path = animation_path / 'dynamic_topography.mp4'\n",
    "fourcc = cv2.VideoWriter_fourcc(*'mp4v')\n",
    "video = cv2.VideoWriter(str(output_path), fourcc, 5, (width, height))  # fps = 5"
   ]
  },
  {
   "cell_type": "code",
   "execution_count": 24,
   "id": "d9bb3171",
   "metadata": {},
   "outputs": [
    {
     "name": "stdout",
     "output_type": "stream",
     "text": [
      "Video saved to: /Users/suphakornpoobua/Desktop/GPlates_Dynamic/Animations/dynamic_topography.mp4\n"
     ]
    }
   ],
   "source": [
    "# Write each frame\n",
    "for img_path in images2d_files:\n",
    "    frame = cv2.imread(str(img_path))\n",
    "    video.write(frame)\n",
    "\n",
    "video.release()\n",
    "print(f\"Video saved to: {output_path}\")"
   ]
  }
 ],
 "metadata": {
  "kernelspec": {
   "display_name": "base",
   "language": "python",
   "name": "python3"
  },
  "language_info": {
   "codemirror_mode": {
    "name": "ipython",
    "version": 3
   },
   "file_extension": ".py",
   "mimetype": "text/x-python",
   "name": "python",
   "nbconvert_exporter": "python",
   "pygments_lexer": "ipython3",
   "version": "3.12.2"
  }
 },
 "nbformat": 4,
 "nbformat_minor": 5
}
